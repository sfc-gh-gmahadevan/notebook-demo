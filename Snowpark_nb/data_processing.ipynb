{
 "metadata": {
  "kernelspec": {
   "display_name": "local-venv",
   "language": "python",
   "name": "local-venv"
  },
  "language_info": {
   "codemirror_mode": {
    "name": "ipython",
    "version": 3
   },
   "file_extension": ".py",
   "mimetype": "text/x-python",
   "name": "python",
   "nbconvert_exporter": "python",
   "pygments_lexer": "ipython3",
   "version": "3.12.4"
  },
  "lastEditStatus": {
   "notebookId": "x7kjysbkqqixfnkkedi4",
   "authorId": "7232672222229",
   "authorName": "GMAHADEVAN_AWS",
   "authorEmail": "ganesh.mahadevan@snowflake.com",
   "sessionId": "4695cc1f-348f-446b-8715-9855efe62512",
   "lastEditTime": 1745009969502
  }
 },
 "nbformat_minor": 2,
 "nbformat": 4,
 "cells": [
  {
   "cell_type": "code",
   "execution_count": 1,
   "metadata": {
    "name": "cell1",
    "language": "python"
   },
   "outputs": [
    {
     "name": "stdout",
     "output_type": "stream",
     "text": [
      "\"GMAHADEVAN_DB\"\n"
     ]
    }
   ],
   "source": [
    "from snowflake.snowpark import Session\n",
    "\n",
    "\n",
    "session = Session.builder.config(\"connection_name\", \"spark-connect\").getOrCreate()\n",
    "print(session.get_current_database())"
   ],
   "id": "ce110000-1111-2222-3333-ffffff000000"
  },
  {
   "cell_type": "code",
   "id": "50835298-ce12-40ce-aaea-6c91b1bfbd19",
   "metadata": {
    "language": "python",
    "name": "cell2"
   },
   "outputs": [],
   "source": "print(session.get_current_role())",
   "execution_count": null
  }
 ]
}