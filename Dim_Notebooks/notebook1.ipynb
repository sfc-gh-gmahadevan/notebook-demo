{
 "cells": [
  {
   "cell_type": "code",
   "execution_count": 1,
   "metadata": {},
   "outputs": [
    {
     "name": "stdout",
     "output_type": "stream",
     "text": [
      "\"GMAHADEVAN_DB\"\n"
     ]
    }
   ],
   "source": [
    "from snowflake.snowpark import Session\n",
    "\n",
    "session = Session.builder.config(\"connection_name\", \"spark-connect\").getOrCreate()\n",
    "print(session.get_current_database())"
   ]
  },
  {
   "cell_type": "code",
   "execution_count": 2,
   "metadata": {},
   "outputs": [
    {
     "name": "stdout",
     "output_type": "stream",
     "text": [
      "---------------------------------------------------------------------------------------------------------------\n",
      "|\"ABANDONDATE\"  |\"AGENT\"  |\"AGEOFWELL\"  |\"APIUWI\"  |\"AREA\"  |\"BASIN\"  |\"BASINCODE\"  |\"CASINGFLANGEELEVATION\"  |\n",
      "---------------------------------------------------------------------------------------------------------------\n",
      "|Test           |Geotech  |null         |null      |Mining  |null     |null         |null                     |\n",
      "|null           |null     |null         |null      |Insitu  |null     |null         |null                     |\n",
      "|null           |null     |null         |null      |Insitu  |null     |null         |null                     |\n",
      "|null           |null     |null         |null      |Insitu  |null     |null         |null                     |\n",
      "|null           |null     |null         |null      |Mining  |null     |null         |null                     |\n",
      "|null           |Geotech  |null         |null      |Mining  |null     |null         |null                     |\n",
      "|null           |Geotech  |63           |null      |Mining  |null     |null         |null                     |\n",
      "|null           |Geotech  |null         |null      |Mining  |null     |null         |null                     |\n",
      "---------------------------------------------------------------------------------------------------------------\n",
      "\n"
     ]
    }
   ],
   "source": [
    "df = session.read.option(\"PARSE_HEADER\", True).csv('@\"GMAHADEVAN_DB\".\"GMAHADEVAN_SCHEMA\".\"SUNCOR_LIB\"/test.csv')\n",
    "df.show()"
   ]
  },
  {
   "cell_type": "code",
   "execution_count": 4,
   "metadata": {},
   "outputs": [],
   "source": [
    "from snowflake.snowpark.functions import lit\n",
    "df = df.withColumn(\"test_col\", lit(\"value\"))"
   ]
  },
  {
   "cell_type": "code",
   "execution_count": 5,
   "metadata": {},
   "outputs": [
    {
     "name": "stdout",
     "output_type": "stream",
     "text": [
      "----------------------------------------------------------------------------------------------------------------------------\n",
      "|\"ABANDONDATE\"  |\"AGENT\"  |\"AGEOFWELL\"  |\"APIUWI\"  |\"AREA\"  |\"BASIN\"  |\"BASINCODE\"  |\"CASINGFLANGEELEVATION\"  |\"TEST_COL\"  |\n",
      "----------------------------------------------------------------------------------------------------------------------------\n",
      "|Test           |Geotech  |null         |null      |Mining  |null     |null         |null                     |value       |\n",
      "|null           |null     |null         |null      |Insitu  |null     |null         |null                     |value       |\n",
      "|null           |null     |null         |null      |Insitu  |null     |null         |null                     |value       |\n",
      "|null           |null     |null         |null      |Insitu  |null     |null         |null                     |value       |\n",
      "|null           |null     |null         |null      |Mining  |null     |null         |null                     |value       |\n",
      "|null           |Geotech  |null         |null      |Mining  |null     |null         |null                     |value       |\n",
      "|null           |Geotech  |63           |null      |Mining  |null     |null         |null                     |value       |\n",
      "|null           |Geotech  |null         |null      |Mining  |null     |null         |null                     |value       |\n",
      "----------------------------------------------------------------------------------------------------------------------------\n",
      "\n"
     ]
    }
   ],
   "source": [
    "df.show()"
   ]
  }
 ],
 "metadata": {
  "kernelspec": {
   "display_name": "local-venv",
   "language": "python",
   "name": "local-venv"
  },
  "language_info": {
   "codemirror_mode": {
    "name": "ipython",
    "version": 3
   },
   "file_extension": ".py",
   "mimetype": "text/x-python",
   "name": "python",
   "nbconvert_exporter": "python",
   "pygments_lexer": "ipython3",
   "version": "3.12.4"
  }
 },
 "nbformat": 4,
 "nbformat_minor": 2
}
